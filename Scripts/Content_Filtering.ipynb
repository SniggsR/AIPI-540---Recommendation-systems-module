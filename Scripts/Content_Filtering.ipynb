{
  "cells": [
    {
      "cell_type": "code",
      "execution_count": null,
      "id": "f2af163f",
      "metadata": {
        "id": "f2af163f"
      },
      "outputs": [],
      "source": [
        "import numpy as np\n",
        "import pandas as pd\n",
        "from sklearn.model_selection import train_test_split\n",
        "from sklearn.metrics import mean_squared_error"
      ]
    },
    {
      "cell_type": "code",
      "execution_count": null,
      "id": "9b023cda",
      "metadata": {
        "id": "9b023cda"
      },
      "outputs": [],
      "source": [
        "csmatrix = pd.read_pickle(\"./csmatrix.pkl\")\n",
        "ratings = pd.read_pickle(\"./ratings_df.pkl\")\n",
        "business_df = pd.read_pickle(\"./business_df_clean.pkl\")"
      ]
    },
    {
      "cell_type": "code",
      "execution_count": null,
      "id": "6e13ca87",
      "metadata": {
        "id": "6e13ca87"
      },
      "outputs": [],
      "source": [
        "# csmatrix --> 10863 business_id x 10863 business_id\n",
        "\n",
        "# restaurants_df --> 10863 business_ids x 291 food features\n",
        "\n",
        "# final_df --> 856484 reviews x 11 columns (probably unnecessary)\n",
        "\n",
        "# business_df_clean --> 10863 business_id x 9 columns\n",
        "\n",
        "# ratings_df --> 856484 reviews × 3 columns (USE)"
      ]
    },
    {
      "cell_type": "markdown",
      "id": "bac94ec9",
      "metadata": {
        "id": "bac94ec9"
      },
      "source": [
        "# Generate Recommendations for User"
      ]
    },
    {
      "cell_type": "code",
      "execution_count": null,
      "id": "9307bca8",
      "metadata": {
        "id": "9307bca8"
      },
      "outputs": [],
      "source": [
        "def generate_recommendations(user,csmatrix,ratings,business_df):\n",
        "    # Get top rated restaurant by user\n",
        "    user_ratings = ratings.loc[ratings['user_id']==user]\n",
        "    user_ratings = user_ratings.sort_values(by='review_stars',axis=0,ascending=False)\n",
        "    toprated = user_ratings.iloc[0,:]['business_id']\n",
        "    # Find most similar restaurants to the user's top rated movie\n",
        "    sims = csmatrix[toprated]\n",
        "    mostsimilar = sims.sort_values(ascending=False).index.values\n",
        "    # Get 10 most similar restaurants excluding the movie itself\n",
        "    mostsimilar = mostsimilar[1:11]\n",
        "    # Get titles of restaurants from ids\n",
        "    toprated_name = business_df[business_df[\"business_id\"]==toprated][\"name\"].values[0]\n",
        "    \n",
        "    recommendations_dict = {}\n",
        "    \n",
        "    for i in range(len(mostsimilar)):\n",
        "        recommendations_dict[business_df[business_df[\"business_id\"]==mostsimilar[i]][\"name\"].values[0]] = [str(business_df[business_df[\"business_id\"]==mostsimilar[i]][\"stars\"].values[0]) + \" stars\", str(business_df[business_df[\"business_id\"]==mostsimilar[i]][\"review_count\"].values[0]) + \" total reviews\"]\n",
        "\n",
        "    return toprated_name, recommendations_dict"
      ]
    },
    {
      "cell_type": "code",
      "execution_count": null,
      "id": "2a006f52",
      "metadata": {
        "id": "2a006f52",
        "outputId": "fa99555c-c6ef-4958-a5cc-662104c21dd3"
      },
      "outputs": [
        {
          "name": "stdout",
          "output_type": "stream",
          "text": [
            "User's highest rated place was: Seikaku Sushi & Steak\n"
          ]
        }
      ],
      "source": [
        "user = \"4wMvgdEVpFLCIhFANNBvGA\"\n",
        "toprated, recs_dict = generate_recommendations(user,csmatrix=csmatrix,ratings=ratings,business_df=business_df)\n",
        "print(\"User's highest rated place was: {}\".format(toprated))"
      ]
    },
    {
      "cell_type": "code",
      "execution_count": null,
      "id": "3d1661ff",
      "metadata": {
        "id": "3d1661ff",
        "outputId": "38047d4f-e971-4bcf-e942-589cab4c6672"
      },
      "outputs": [
        {
          "data": {
            "text/plain": [
              "{\"Sam's Sushi\": ['4.5 stars', '43 total reviews'],\n",
              " 'Osaka Sushi & Thai': ['3.5 stars', '162 total reviews'],\n",
              " 'Seikaku Sushi & Steak': ['4.5 stars', '38 total reviews'],\n",
              " 'Samurai Blue Sushi and Sake Bar': ['3.5 stars', '99 total reviews'],\n",
              " 'Sushi Fune': ['4.0 stars', '6 total reviews'],\n",
              " 'Bonsai Sushi': ['4.0 stars', '233 total reviews'],\n",
              " 'Sushi Alive': ['4.5 stars', '138 total reviews'],\n",
              " 'Saki Endless Sushi & Hibachi Eatery': ['3.0 stars', '105 total reviews'],\n",
              " 'Fuji Sushi': ['3.5 stars', '5 total reviews'],\n",
              " 'Snookers Grill': ['3.5 stars', '6 total reviews']}"
            ]
          },
          "execution_count": 89,
          "metadata": {},
          "output_type": "execute_result"
        }
      ],
      "source": [
        "recs_dict"
      ]
    },
    {
      "cell_type": "markdown",
      "id": "be3e1448",
      "metadata": {
        "id": "be3e1448"
      },
      "source": [
        "# Calculate RMSE"
      ]
    },
    {
      "cell_type": "code",
      "execution_count": null,
      "id": "e30cfc40",
      "metadata": {
        "id": "e30cfc40"
      },
      "outputs": [],
      "source": [
        "# Split our data into training and validation sets\n",
        "X = ratings.drop(labels=['review_stars'],axis=1)\n",
        "y = ratings['review_stars']\n",
        "X_train, X_val, y_train, y_val = train_test_split(X,y,random_state=0, test_size=0.2)"
      ]
    },
    {
      "cell_type": "code",
      "execution_count": null,
      "id": "0b77903f",
      "metadata": {
        "id": "0b77903f"
      },
      "outputs": [],
      "source": [
        "def predict_rating(user_item_pair,simtable=csmatrix,X_train=X_train, y_train=y_train):\n",
        "    movie_to_rate = user_item_pair['business_id']\n",
        "    user = user_item_pair['user_id']\n",
        "    # Filter similarity matrix to only movies already reviewed by user\n",
        "    movies_watched = X_train.loc[X_train['user_id']==user, 'business_id'].tolist()\n",
        "    simtable_filtered = simtable.loc[movie_to_rate,movies_watched]\n",
        "    # Get the most similar movie already watched to current movie to rate\n",
        "    try:\n",
        "        most_similar_watched = simtable_filtered.index[np.argmax(simtable_filtered)]\n",
        "    except:\n",
        "        return 3\n",
        "    # Get user's rating for most similar movie\n",
        "    idx = X_train.loc[(X_train['user_id']==user) & (X_train['business_id']==most_similar_watched)].index.values[0]\n",
        "    most_similar_rating = y_train.loc[idx]\n",
        "    return most_similar_rating"
      ]
    },
    {
      "cell_type": "code",
      "execution_count": null,
      "id": "c3e95880",
      "metadata": {
        "id": "c3e95880",
        "outputId": "bb6d39ad-274e-4a0b-9787-c35aad7f0237"
      },
      "outputs": [
        {
          "name": "stdout",
          "output_type": "stream",
          "text": [
            "RMSE of predicted ratings is 1.706\n"
          ]
        }
      ],
      "source": [
        "# Get the predicted ratings for each movie in the validation set and calculate the RMSE\n",
        "ratings_valset = X_val.sample(1000, random_state=0).apply(lambda x: predict_rating(x),axis=1)\n",
        "val_rmse = np.sqrt(mean_squared_error(y_val.sample(1000, random_state=0),ratings_valset))\n",
        "print('RMSE of predicted ratings is {:.3f}'.format(val_rmse))"
      ]
    },
    {
      "cell_type": "markdown",
      "id": "f24bbb61",
      "metadata": {
        "id": "f24bbb61"
      },
      "source": [
        "# Content Filtering RMSE is: 1.706"
      ]
    }
  ],
  "metadata": {
    "kernelspec": {
      "display_name": "Python 3.8.2 64-bit ('base': conda)",
      "language": "python",
      "name": "python382jvsc74a57bd0ddf276f29c7076b41743902a3bcbee0bda0d11cfec63083f71d5ba59efbef543"
    },
    "language_info": {
      "codemirror_mode": {
        "name": "ipython",
        "version": 3
      },
      "file_extension": ".py",
      "mimetype": "text/x-python",
      "name": "python",
      "nbconvert_exporter": "python",
      "pygments_lexer": "ipython3",
      "version": "3.8.2"
    },
    "colab": {
      "name": "Content Filtering.ipynb",
      "provenance": []
    }
  },
  "nbformat": 4,
  "nbformat_minor": 5
}